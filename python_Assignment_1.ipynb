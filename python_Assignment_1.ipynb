{
 "cells": [
  {
   "cell_type": "code",
   "execution_count": 5,
   "id": "c7264284",
   "metadata": {},
   "outputs": [
    {
     "name": "stdout",
     "output_type": "stream",
     "text": [
      "Name: Vidushi jain\n",
      "Course: python programming\n",
      "3.12.5 (tags/v3.12.5:ff3bc82, Aug  6 2024, 20:45:27) [MSC v.1940 64 bit (AMD64)]\n"
     ]
    }
   ],
   "source": [
    "\"\"\"\n",
    "write a python script that print your name , course name , and the python version you are using\n",
    "\"\"\"\n",
    "# importing the sys module\n",
    "import sys\n",
    "# This line assigns the string value \"vidushi jain\" to the variable my_name\n",
    "my_name = \"Vidushi jain\" \n",
    "# This line assigns the string value \"python programming\" to the variable course_name\n",
    "course_name = \"python programming\"\n",
    "#nting Name:,Course:   using the f-string\n",
    "print(f\"Name: {my_name}\")\n",
    "print(f\"Course: {course_name}\")\n",
    "# printing the sys.version tell about the current version of python you are using\n",
    "print(sys.version)\n",
    "\n"
   ]
  },
  {
   "cell_type": "code",
   "execution_count": 6,
   "id": "e018432f",
   "metadata": {},
   "outputs": [
    {
     "name": "stdout",
     "output_type": "stream",
     "text": [
      "Reversed full name: Jain Vidushi\n"
     ]
    }
   ],
   "source": [
    "\"\"\"\"\n",
    "write  a python program with briefly explained comments that takes a users first and \n",
    "last name as input and prints them in reverse order with a space between them.\n",
    "\"\"\"\n",
    "# Get user firstname as input\n",
    "first_name = input(\"Enter your first name: \")\n",
    "\n",
    "# Get user last name as input\n",
    "last_name = input(\"Enter your last name: \")\n",
    "\n",
    "# Combine both names in reverse order with a space in between\n",
    "full_name_reversed = last_name + \" \" + first_name\n",
    "\n",
    "# Print the reversed full name using the f-string method\n",
    "print(\"Reversed full name:\", full_name_reversed)\n"
   ]
  },
  {
   "cell_type": "code",
   "execution_count": 4,
   "id": "bba2aeb1",
   "metadata": {},
   "outputs": [
    {
     "name": "stdout",
     "output_type": "stream",
     "text": [
      "Original string: How are you vidushi .\n",
      "Uppercase string: HOW ARE YOU VIDUSHI .\n",
      "Modified string: How are you vidushi ?\n"
     ]
    }
   ],
   "source": [
    "# This line assigns the string value \"How are you.\" to the variable input_string\n",
    "input_string = \"How are you vidushi .\"\n",
    "\n",
    "# 1. String Method: upper(). It Converts all characters in the string to uppercase.\n",
    "uppercase_string = input_string.upper()\n",
    "\n",
    "# 2. String Method: replace(). It allows us to replace a specific substring with a different one.\n",
    "modified_string = input_string.replace(\".\", \"?\")\n",
    "\n",
    "# Print the results using the f-string method\n",
    "print(\"Original string:\", input_string)\n",
    "print(\"Uppercase string:\", uppercase_string)\n",
    "print(\"Modified string:\", modified_string)\n"
   ]
  },
  {
   "cell_type": "code",
   "execution_count": 4,
   "id": "4f93db52",
   "metadata": {},
   "outputs": [
    {
     "name": "stdout",
     "output_type": "stream",
     "text": [
      "Enter the number here: 8\n",
      "Integer value: 8\n",
      "Float value: 8.0\n",
      "Complex value: (8+0j)\n"
     ]
    }
   ],
   "source": [
    "\"\"\"\n",
    "write a python program that takes an input number from the user, converts it to diffent numeric data types (integer, float, nad complex), \n",
    "and displays the converted values.\n",
    "\"\"\"\n",
    "# Takes an input number from the user using variable input_num\n",
    "input_num = input(\"Enter the number here: \")\n",
    "\n",
    "try:\n",
    "    # Convert the input to an integer by typecasting using int method.\n",
    "    # An integer is a whole number without a fractional part.\n",
    "    # Examples: -3, 0, 42, 1001\n",
    "    \n",
    "    int_num = int(input_num)\n",
    "    \n",
    "    # Convert the input to a float by typecasting using float method.\n",
    "    # A floating-point number (or float) represents a real number with a decimal point.\n",
    "    # Examples: 3.14, -0.001, 2.71828\n",
    "    \n",
    "    float_num = float(input_num)\n",
    "    \n",
    "    # Convert the input to a complex number by typecasting using complex method.\n",
    "    # A complex number consists of a real part and an imaginary part.\n",
    "    # Written in the form a + bj, where a is the real part and b is the imaginary part.\n",
    "    # Example: 3 + 2j (where 3 is the real part and 2j represents the imaginary part).\n",
    "    \n",
    "    complex_num = complex(input_num)\n",
    "    \n",
    "    # Display the converted values using the f-string method\n",
    "    print(f\"Integer value: {int_num}\")\n",
    "    print(f\"Float value: {float_num}\")\n",
    "    print(f\"Complex value: {complex_num}\")\n",
    "    \n",
    "except ValueError:\n",
    "    print(\"Invalid input. Please enter a valid numeric value.\")\n"
   ]
  },
  {
   "cell_type": "code",
   "execution_count": 7,
   "id": "c5249a0a",
   "metadata": {},
   "outputs": [
    {
     "name": "stdout",
     "output_type": "stream",
     "text": [
      "Enter the length of the rectangle: 67\n",
      "Enter the width of the rectangle: 56\n",
      "The area of the rectangle is: 3752.0\n"
     ]
    }
   ],
   "source": [
    "\"\"\"\n",
    "create a python script that calculates the sum the area of a rectangle . \n",
    "the script should ask user to enter the length and width of the rectangle .\n",
    "Calculate the area.\n",
    "Display the result using print function.\n",
    "\"\"\"\n",
    "\n",
    "# takes the lenght as input from user\n",
    "length = float(input(\"Enter the length of the rectangle: \"))\n",
    "# takes the width as input from user\n",
    "width = float(input(\"Enter the width of the rectangle: \"))\n",
    "\n",
    "# Calculate the area (length * width)\n",
    "area = length * width\n",
    "\n",
    "# Display the result using the f-string method\n",
    "print(f\"The area of the rectangle is: {area}\")\n"
   ]
  },
  {
   "cell_type": "code",
   "execution_count": 5,
   "id": "b9d27adf",
   "metadata": {},
   "outputs": [
    {
     "name": "stdout",
     "output_type": "stream",
     "text": [
      "Enter the length of the rectangle: 98\n",
      "Enter the width of the rectangle: 67\n",
      "The area of the rectangle is: 6566.00\n"
     ]
    }
   ],
   "source": [
    "\"\"\"\n",
    "modify the rectangle area program to format the output so that it display the area with two decimal places.\n",
    "\"\"\"\n",
    "\n",
    "# takes the lenght as input from user\n",
    "length = float(input(\"Enter the length of the rectangle: \"))\n",
    "# takes the width as input from user\n",
    "width = float(input(\"Enter the width of the rectangle: \"))\n",
    "\n",
    "# Calculate the area (length * width)\n",
    "area = length * width\n",
    "\n",
    "# Display the area of rectangle upto two decimal places \n",
    "print(f\"The area of the rectangle is: {area:.2f}\")"
   ]
  },
  {
   "cell_type": "code",
   "execution_count": 6,
   "id": "1737cdf4",
   "metadata": {},
   "outputs": [
    {
     "name": "stdout",
     "output_type": "stream",
     "text": [
      "Enter the first number here: 9\n",
      "Enter the second number here: 1\n",
      "Enter the third number here: 6\n",
      "The average of the three numbers is: 5.33\n"
     ]
    }
   ],
   "source": [
    "\"\"\"\n",
    "write a python script that takes three jumbers as input and prints their average using the % method for string  formating.\n",
    "Also, use the print functions to display a message that states , \"the average of the three numbers is: [calculated average]\".\n",
    "\"\"\"\n",
    "#Taking three numbers as input from the user\n",
    "num1 = input(\"Enter the first number here: \")\n",
    "num2 = input(\"Enter the second number here: \")\n",
    "num3 = input(\"Enter the third number here: \")\n",
    "\n",
    "try:\n",
    "    #convering input to float\n",
    "    num1 = float(num1)\n",
    "    num2 = float(num2)\n",
    "    num3 = float(num3)\n",
    "    \n",
    "    # Calculating the average\n",
    "    average = (num1 + num2 + num3) / 3\n",
    "\n",
    "    # Printing the average using % formatting\n",
    "    print(\"The average of the three numbers is: %.2f\" % average)\n",
    "\n",
    "except ValueError:\n",
    "    print(\"Invalid input. Please enter a valid numeric value.\")"
   ]
  },
  {
   "cell_type": "code",
   "execution_count": 7,
   "id": "2cb6dfdd",
   "metadata": {},
   "outputs": [
    {
     "name": "stdout",
     "output_type": "stream",
     "text": [
      "Enter a number here (or 'exit' to quit): 9\n",
      "Positive number\n",
      "Enter a number here (or 'exit' to quit): exit\n",
      "Exiting the program\n"
     ]
    }
   ],
   "source": [
    "\"\"\"\n",
    "write a pythin program that asks the user for a number and determines whether it is positive , negative or zero. \n",
    "Implement a loop that continues to ask the user for a number until they enter 'exit'  \n",
    "Use break to exit the loop and continue to prompt for a new number if the input is not 'exit'.\n",
    "\"\"\"\n",
    "\n",
    "# Initializing a loop\n",
    "while True:\n",
    "    # takes the user input\n",
    "    input_num = input(\"Enter a number here (or 'exit' to quit): \")\n",
    "\n",
    "    # Check if the user wants to exit\n",
    "    if input_num.lower() == 'exit':\n",
    "        print(\"Exiting the program.\")\n",
    "        \n",
    "        break\n",
    "\n",
    "    try:\n",
    "        # Convert input_num to a floating-point number\n",
    "        number = float(input_num)\n",
    "        \n",
    "        # finding the number is positive, negative, or zero\n",
    "        if number > 0:\n",
    "            print(\"Positive number\")\n",
    "        elif number < 0:\n",
    "            print(\"Negative number\")\n",
    "        else:\n",
    "            print(\"Zero\")\n",
    "    except ValueError:\n",
    "        # Handle invalid input (non-numeric or empty input)\n",
    "        print(\"Invalid input. Please enter a valid number or 'exit'.\")\n"
   ]
  },
  {
   "cell_type": "code",
   "execution_count": 8,
   "id": "30625da6",
   "metadata": {},
   "outputs": [
    {
     "name": "stdout",
     "output_type": "stream",
     "text": [
      "Enter the first number: 8\n",
      "Enter the second number: 9\n",
      "One number is even and the other is odd.\n"
     ]
    }
   ],
   "source": [
    "\"\"\"\n",
    "create a python script that takes two numbers as input and prints whether both numbers are even, \n",
    "odd or one of each using relational and logical operators.\n",
    "\"\"\"\n",
    "\n",
    "# Takes two numbers as input from the user\n",
    "num1 = int(input(\"Enter the first number: \"))\n",
    "num2 = int(input(\"Enter the second number: \"))\n",
    "\n",
    "# Check if both numbers are even, both are odd, or one of each\n",
    "if num1 % 2 == 0 and num2 % 2 == 0:\n",
    "    print(\"Both numbers are even.\")\n",
    "elif num1 % 2 != 0 and num2 % 2 != 0:\n",
    "    print(\"Both numbers are odd.\")\n",
    "else:\n",
    "    print(\"One number is even and the other is odd.\")\n"
   ]
  },
  {
   "cell_type": "code",
   "execution_count": null,
   "id": "497d60a6",
   "metadata": {},
   "outputs": [],
   "source": []
  }
 ],
 "metadata": {
  "kernelspec": {
   "display_name": "Python 3 (ipykernel)",
   "language": "python",
   "name": "python3"
  },
  "language_info": {
   "codemirror_mode": {
    "name": "ipython",
    "version": 3
   },
   "file_extension": ".py",
   "mimetype": "text/x-python",
   "name": "python",
   "nbconvert_exporter": "python",
   "pygments_lexer": "ipython3",
   "version": "3.12.5"
  }
 },
 "nbformat": 4,
 "nbformat_minor": 5
}
