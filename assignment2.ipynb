{
 "cells": [
  {
   "cell_type": "code",
   "execution_count": 1,
   "metadata": {},
   "outputs": [
    {
     "name": "stdout",
     "output_type": "stream",
     "text": [
      "Hello, Vidushi!\n",
      "Good Morning, Vaidehi!\n"
     ]
    }
   ],
   "source": [
    "def greet(name, greeting=\"Hello\"):\n",
    "    return f\"{greeting}, {name}!\"\n",
    "\n",
    "print(greet(\"Vidushi\"))           \n",
    "print(greet(\"Vaidehi\", \"Good Morning\"))       "
   ]
  },
  {
   "cell_type": "code",
   "execution_count": 3,
   "metadata": {},
   "outputs": [
    {
     "name": "stdout",
     "output_type": "stream",
     "text": [
      "name : vidushi , city : Rajsthan, age : 22\n"
     ]
    }
   ],
   "source": [
    "def create_profile(name=\"dev\",city=\"gujrat\",age=\"22\"):\n",
    "    return f\"name : {name} , city : {city}, age : {age}\"\n",
    "print(create_profile(\"vidushi\",\"Rajsthan\"))"
   ]
  },
  {
   "cell_type": "code",
   "execution_count": 4,
   "metadata": {},
   "outputs": [
    {
     "name": "stdout",
     "output_type": "stream",
     "text": [
      "Sum of args: 10.5\n",
      "Keyword arguments: {'name': 'vidushi', 'age': 22}\n"
     ]
    }
   ],
   "source": [
    "def sum_numbers(*args, **kwargs):\n",
    "    sum_of_args = 0\n",
    "    \n",
    "    # Iterate over args to sum numbers\n",
    "    for arg in args:\n",
    "        if isinstance(arg, (int, float)):\n",
    "            sum_of_args += arg\n",
    "    \n",
    "    # Return the sum of positional arguments and the keyword arguments dictionary\n",
    "    return sum_of_args, {key: value for key, value in kwargs.items()}\n",
    "\n",
    "result_sum, result_kwargs = sum_numbers(1, 2, 3, 4.5, name=\"vidushi\", age=22)\n",
    "print(\"Sum of args:\", result_sum)       # Output: Sum of args: 10.5\n",
    "print(\"Keyword arguments:\", result_kwargs)  # Output: Keyword arguments: {'name': 'vidushi', 'age': 22}\n"
   ]
  },
  {
   "cell_type": "code",
   "execution_count": 5,
   "metadata": {},
   "outputs": [
    {
     "name": "stdout",
     "output_type": "stream",
     "text": [
      "[4, 9, 16, 25]\n"
     ]
    }
   ],
   "source": [
    "def square_element(a):\n",
    "    return list(map(lambda x: x ** 2, a))\n",
    "\n",
    "numbers = [2,3,4,5]\n",
    "squared_number = square_element(numbers)\n",
    "print(squared_number)\n"
   ]
  },
  {
   "cell_type": "code",
   "execution_count": 6,
   "metadata": {},
   "outputs": [
    {
     "name": "stdout",
     "output_type": "stream",
     "text": [
      "[20, 42, 88, 100]\n"
     ]
    }
   ],
   "source": [
    "def odd_number(a):\n",
    "    return list(filter(lambda x: x%2==0, a))\n",
    "\n",
    "element =[23,45,55,43,20,42,88,100]\n",
    "even=odd_number(element)\n",
    "print(even)\n",
    "\n",
    "\n"
   ]
  },
  {
   "cell_type": "code",
   "execution_count": 7,
   "metadata": {},
   "outputs": [
    {
     "name": "stdout",
     "output_type": "stream",
     "text": [
      "[0, 1, 4, 9, 16]\n"
     ]
    }
   ],
   "source": [
    "list=(0,4)\n",
    "square=[x**2 for x in range(5)]\n",
    "print(square)"
   ]
  },
  {
   "cell_type": "code",
   "execution_count": 8,
   "metadata": {},
   "outputs": [
    {
     "name": "stdout",
     "output_type": "stream",
     "text": [
      "[2, 4, 6, 8, 10, 12, 14, 16, 18, 20]\n"
     ]
    }
   ],
   "source": [
    "a=range(1,21)\n",
    "even=[x for x in a if x%2==0]\n",
    "print(even)"
   ]
  },
  {
   "cell_type": "code",
   "execution_count": 9,
   "metadata": {},
   "outputs": [
    {
     "name": "stdout",
     "output_type": "stream",
     "text": [
      "Directory created\n",
      "Paused for 3 seconds\n",
      "Directory deleted\n"
     ]
    }
   ],
   "source": [
    "import os\n",
    "import time\n",
    "\n",
    "def file_operation():\n",
    "    \n",
    "    os.makedirs(\"Test_Folder\")\n",
    "    print(\"Directory created\")\n",
    "\n",
    "    print(\"Paused for 3 seconds\")\n",
    "    time.sleep(3)\n",
    "    \n",
    "    \n",
    "    os.rmdir(\"test_folder\")\n",
    "    print(\"Directory deleted\")\n",
    "\n",
    "file_operation()"
   ]
  },
  {
   "cell_type": "code",
   "execution_count": 10,
   "metadata": {},
   "outputs": [
    {
     "name": "stdout",
     "output_type": "stream",
     "text": [
      "Paused Execution......\n"
     ]
    }
   ],
   "source": [
    "from time import sleep as pause\n",
    "\n",
    "def pause(times):\n",
    "\n",
    "    print(\"Paused Execution......\")\n",
    "    time.sleep(times)    \n",
    "\n",
    "pause(5)"
   ]
  },
  {
   "cell_type": "code",
   "execution_count": null,
   "metadata": {},
   "outputs": [],
   "source": [
    "def flatten_list(nested_list, *args, **kwargs):\n",
    "    flat_list = []\n",
    "    \n",
    "    for item in nested_list:\n",
    "        if isinstance(item, list):\n",
    "            flat_list.extend(flatten_list(item, *args, **kwargs))\n",
    "        else:\n",
    "            flat_list.append(item)\n",
    "    \n",
    "\n",
    "    if 'transform' in kwargs:\n",
    "        flat_list = [kwargs['transform'](x) for x in flat_list]\n",
    "    \n",
    "    return flat_list\n",
    "\n",
    "\n",
    "print(flatten_list([1, [2, 3], [[4, 5], 6]])) \n",
    "print(flatten_list([[1, 2], [3, [4, [5]]]]))  "
   ]
  }
 ],
 "metadata": {
  "kernelspec": {
   "display_name": "Python 3",
   "language": "python",
   "name": "python3"
  },
  "language_info": {
   "codemirror_mode": {
    "name": "ipython",
    "version": 3
   },
   "file_extension": ".py",
   "mimetype": "text/x-python",
   "name": "python",
   "nbconvert_exporter": "python",
   "pygments_lexer": "ipython3",
   "version": "3.12.5"
  }
 },
 "nbformat": 4,
 "nbformat_minor": 2
}
